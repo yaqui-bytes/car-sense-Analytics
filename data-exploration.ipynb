{
 "cells": [
  {
   "cell_type": "code",
   "execution_count": 2,
   "id": "438a29a2-2457-4f81-a084-8ed1e3341bbe",
   "metadata": {},
   "outputs": [],
   "source": [
    "import pandas as pd\n",
    "import seaborn as sns\n",
    "import matplotlib.pyplot as plt\n",
    "import numpy as np\n",
    "%matplotlib inline"
   ]
  },
  {
   "cell_type": "code",
   "execution_count": 8,
   "id": "2d7d4f15-c9a6-4615-91df-29ee77da9db3",
   "metadata": {},
   "outputs": [],
   "source": [
    "df = pd.read_csv('../../ML/car-sense-Analytics/car_dataset_1714087430.csv')"
   ]
  },
  {
   "cell_type": "code",
   "execution_count": 9,
   "id": "79c1a8b5-3c3a-4d61-bb92-77da981a4e53",
   "metadata": {},
   "outputs": [
    {
     "data": {
      "text/html": [
       "<div>\n",
       "<style scoped>\n",
       "    .dataframe tbody tr th:only-of-type {\n",
       "        vertical-align: middle;\n",
       "    }\n",
       "\n",
       "    .dataframe tbody tr th {\n",
       "        vertical-align: top;\n",
       "    }\n",
       "\n",
       "    .dataframe thead th {\n",
       "        text-align: right;\n",
       "    }\n",
       "</style>\n",
       "<table border=\"1\" class=\"dataframe\">\n",
       "  <thead>\n",
       "    <tr style=\"text-align: right;\">\n",
       "      <th></th>\n",
       "      <th>brand</th>\n",
       "      <th>model</th>\n",
       "      <th>Year</th>\n",
       "      <th>Max</th>\n",
       "      <th>Min</th>\n",
       "      <th>adult passangers</th>\n",
       "      <th>Peso (KG)</th>\n",
       "      <th>transmission</th>\n",
       "      <th>tipo combustible</th>\n",
       "      <th>Tanque Combustible</th>\n",
       "      <th>...</th>\n",
       "      <th>Bluetooth</th>\n",
       "      <th>Android auto/Apple play</th>\n",
       "      <th>Control Crucero</th>\n",
       "      <th>Contro Crucero Inteligente</th>\n",
       "      <th>Alerta Punto Ciego</th>\n",
       "      <th>Sensor de lluvia</th>\n",
       "      <th>Arrastre</th>\n",
       "      <th>Jalon</th>\n",
       "      <th>Carroceria</th>\n",
       "      <th>Segmento</th>\n",
       "    </tr>\n",
       "  </thead>\n",
       "  <tbody>\n",
       "    <tr>\n",
       "      <th>0</th>\n",
       "      <td>Toyota</td>\n",
       "      <td>Yaris</td>\n",
       "      <td>2024</td>\n",
       "      <td>$388,700</td>\n",
       "      <td>$312,800</td>\n",
       "      <td>5</td>\n",
       "      <td>NaN</td>\n",
       "      <td>A/S</td>\n",
       "      <td>Gas</td>\n",
       "      <td>40</td>\n",
       "      <td>...</td>\n",
       "      <td>Si</td>\n",
       "      <td>Si</td>\n",
       "      <td>Si</td>\n",
       "      <td>Si</td>\n",
       "      <td>Si</td>\n",
       "      <td>No</td>\n",
       "      <td>No</td>\n",
       "      <td>NaN</td>\n",
       "      <td>Sedan</td>\n",
       "      <td>Ciudad</td>\n",
       "    </tr>\n",
       "    <tr>\n",
       "      <th>1</th>\n",
       "      <td>Toyota</td>\n",
       "      <td>Corolla</td>\n",
       "      <td>2024</td>\n",
       "      <td>$529,900</td>\n",
       "      <td>$419,900</td>\n",
       "      <td>5</td>\n",
       "      <td>1405.0</td>\n",
       "      <td>A</td>\n",
       "      <td>Gas</td>\n",
       "      <td>50</td>\n",
       "      <td>...</td>\n",
       "      <td>Si</td>\n",
       "      <td>Si</td>\n",
       "      <td>Si</td>\n",
       "      <td>Si</td>\n",
       "      <td>Si</td>\n",
       "      <td>No</td>\n",
       "      <td>No</td>\n",
       "      <td>NaN</td>\n",
       "      <td>Sedan</td>\n",
       "      <td>Sedan-MidSize</td>\n",
       "    </tr>\n",
       "    <tr>\n",
       "      <th>2</th>\n",
       "      <td>Toyota</td>\n",
       "      <td>Cambry</td>\n",
       "      <td>2024</td>\n",
       "      <td>$598,800</td>\n",
       "      <td>$571,900</td>\n",
       "      <td>5</td>\n",
       "      <td>1515.0</td>\n",
       "      <td>A</td>\n",
       "      <td>Gas</td>\n",
       "      <td>60.6</td>\n",
       "      <td>...</td>\n",
       "      <td>Si</td>\n",
       "      <td>Si</td>\n",
       "      <td>Si</td>\n",
       "      <td>Si</td>\n",
       "      <td>Si</td>\n",
       "      <td>No</td>\n",
       "      <td>No</td>\n",
       "      <td>NaN</td>\n",
       "      <td>Sedan</td>\n",
       "      <td>Sedan-Fullsize*</td>\n",
       "    </tr>\n",
       "    <tr>\n",
       "      <th>3</th>\n",
       "      <td>Toyota</td>\n",
       "      <td>Raize</td>\n",
       "      <td>2024</td>\n",
       "      <td>$400,000</td>\n",
       "      <td>$378,400</td>\n",
       "      <td>5</td>\n",
       "      <td>1035.0</td>\n",
       "      <td>A/S</td>\n",
       "      <td>Gas</td>\n",
       "      <td>36</td>\n",
       "      <td>...</td>\n",
       "      <td>Si</td>\n",
       "      <td>Si</td>\n",
       "      <td>No</td>\n",
       "      <td>No</td>\n",
       "      <td>No</td>\n",
       "      <td>No</td>\n",
       "      <td>No</td>\n",
       "      <td>No</td>\n",
       "      <td>SUV</td>\n",
       "      <td>SUV-City</td>\n",
       "    </tr>\n",
       "    <tr>\n",
       "      <th>4</th>\n",
       "      <td>Toyota</td>\n",
       "      <td>Corolla Cross</td>\n",
       "      <td>2024</td>\n",
       "      <td>$528,700</td>\n",
       "      <td>$528,700</td>\n",
       "      <td>5</td>\n",
       "      <td>1425.0</td>\n",
       "      <td>A</td>\n",
       "      <td>Gas</td>\n",
       "      <td>47</td>\n",
       "      <td>...</td>\n",
       "      <td>Si</td>\n",
       "      <td>Si</td>\n",
       "      <td>Si</td>\n",
       "      <td>Si</td>\n",
       "      <td>Si</td>\n",
       "      <td>No</td>\n",
       "      <td>No</td>\n",
       "      <td>Si</td>\n",
       "      <td>SUV</td>\n",
       "      <td>SUV-MidSize</td>\n",
       "    </tr>\n",
       "  </tbody>\n",
       "</table>\n",
       "<p>5 rows × 41 columns</p>\n",
       "</div>"
      ],
      "text/plain": [
       "    brand          model  Year       Max       Min adult passangers  \\\n",
       "0  Toyota          Yaris  2024  $388,700  $312,800                5   \n",
       "1  Toyota        Corolla  2024  $529,900  $419,900                5   \n",
       "2  Toyota         Cambry  2024  $598,800  $571,900                5   \n",
       "3  Toyota          Raize  2024  $400,000  $378,400                5   \n",
       "4  Toyota  Corolla Cross  2024  $528,700  $528,700                5   \n",
       "\n",
       "   Peso (KG) transmission tipo combustible Tanque Combustible  ... Bluetooth  \\\n",
       "0        NaN          A/S              Gas                 40  ...        Si   \n",
       "1     1405.0            A              Gas                 50  ...        Si   \n",
       "2     1515.0            A              Gas               60.6  ...        Si   \n",
       "3     1035.0          A/S              Gas                 36  ...        Si   \n",
       "4     1425.0            A              Gas                 47  ...        Si   \n",
       "\n",
       "  Android auto/Apple play Control Crucero Contro Crucero Inteligente  \\\n",
       "0                      Si              Si                         Si   \n",
       "1                      Si              Si                         Si   \n",
       "2                      Si              Si                         Si   \n",
       "3                      Si              No                         No   \n",
       "4                      Si              Si                         Si   \n",
       "\n",
       "  Alerta Punto Ciego Sensor de lluvia Arrastre  Jalon  Carroceria  \\\n",
       "0                 Si               No       No    NaN       Sedan   \n",
       "1                 Si               No       No    NaN       Sedan   \n",
       "2                 Si               No       No    NaN       Sedan   \n",
       "3                 No               No       No     No         SUV   \n",
       "4                 Si               No       No     Si         SUV   \n",
       "\n",
       "          Segmento  \n",
       "0           Ciudad  \n",
       "1    Sedan-MidSize  \n",
       "2  Sedan-Fullsize*  \n",
       "3         SUV-City  \n",
       "4      SUV-MidSize  \n",
       "\n",
       "[5 rows x 41 columns]"
      ]
     },
     "execution_count": 9,
     "metadata": {},
     "output_type": "execute_result"
    }
   ],
   "source": [
    "df.head()"
   ]
  },
  {
   "cell_type": "code",
   "execution_count": 10,
   "id": "8d4f42ac-2f7e-43b3-bd4b-716b7420543a",
   "metadata": {},
   "outputs": [
    {
     "data": {
      "text/html": [
       "<div>\n",
       "<style scoped>\n",
       "    .dataframe tbody tr th:only-of-type {\n",
       "        vertical-align: middle;\n",
       "    }\n",
       "\n",
       "    .dataframe tbody tr th {\n",
       "        vertical-align: top;\n",
       "    }\n",
       "\n",
       "    .dataframe thead th {\n",
       "        text-align: right;\n",
       "    }\n",
       "</style>\n",
       "<table border=\"1\" class=\"dataframe\">\n",
       "  <thead>\n",
       "    <tr style=\"text-align: right;\">\n",
       "      <th></th>\n",
       "      <th>Year</th>\n",
       "      <th>Peso (KG)</th>\n",
       "      <th>Largo(m)</th>\n",
       "      <th>Ancho</th>\n",
       "      <th>Alto</th>\n",
       "      <th>Dist ejes</th>\n",
       "    </tr>\n",
       "  </thead>\n",
       "  <tbody>\n",
       "    <tr>\n",
       "      <th>count</th>\n",
       "      <td>91.0</td>\n",
       "      <td>76.000000</td>\n",
       "      <td>91.000000</td>\n",
       "      <td>91.000000</td>\n",
       "      <td>91.000000</td>\n",
       "      <td>74.000000</td>\n",
       "    </tr>\n",
       "    <tr>\n",
       "      <th>mean</th>\n",
       "      <td>2024.0</td>\n",
       "      <td>1842.947368</td>\n",
       "      <td>4.714934</td>\n",
       "      <td>1.870198</td>\n",
       "      <td>1.651352</td>\n",
       "      <td>2.813392</td>\n",
       "    </tr>\n",
       "    <tr>\n",
       "      <th>std</th>\n",
       "      <td>0.0</td>\n",
       "      <td>541.067214</td>\n",
       "      <td>0.460034</td>\n",
       "      <td>0.142638</td>\n",
       "      <td>0.362125</td>\n",
       "      <td>0.308108</td>\n",
       "    </tr>\n",
       "    <tr>\n",
       "      <th>min</th>\n",
       "      <td>2024.0</td>\n",
       "      <td>1016.000000</td>\n",
       "      <td>3.800000</td>\n",
       "      <td>1.600000</td>\n",
       "      <td>1.240000</td>\n",
       "      <td>2.450000</td>\n",
       "    </tr>\n",
       "    <tr>\n",
       "      <th>25%</th>\n",
       "      <td>2024.0</td>\n",
       "      <td>1526.250000</td>\n",
       "      <td>4.425000</td>\n",
       "      <td>1.770000</td>\n",
       "      <td>1.475000</td>\n",
       "      <td>2.607500</td>\n",
       "    </tr>\n",
       "    <tr>\n",
       "      <th>50%</th>\n",
       "      <td>2024.0</td>\n",
       "      <td>1722.500000</td>\n",
       "      <td>4.600000</td>\n",
       "      <td>1.830000</td>\n",
       "      <td>1.600000</td>\n",
       "      <td>2.700000</td>\n",
       "    </tr>\n",
       "    <tr>\n",
       "      <th>75%</th>\n",
       "      <td>2024.0</td>\n",
       "      <td>2030.000000</td>\n",
       "      <td>5.000000</td>\n",
       "      <td>1.985000</td>\n",
       "      <td>1.740000</td>\n",
       "      <td>2.900000</td>\n",
       "    </tr>\n",
       "    <tr>\n",
       "      <th>max</th>\n",
       "      <td>2024.0</td>\n",
       "      <td>3447.000000</td>\n",
       "      <td>5.900000</td>\n",
       "      <td>2.370000</td>\n",
       "      <td>4.700000</td>\n",
       "      <td>4.460000</td>\n",
       "    </tr>\n",
       "  </tbody>\n",
       "</table>\n",
       "</div>"
      ],
      "text/plain": [
       "         Year    Peso (KG)   Largo(m)      Ancho       Alto  Dist ejes\n",
       "count    91.0    76.000000  91.000000  91.000000  91.000000  74.000000\n",
       "mean   2024.0  1842.947368   4.714934   1.870198   1.651352   2.813392\n",
       "std       0.0   541.067214   0.460034   0.142638   0.362125   0.308108\n",
       "min    2024.0  1016.000000   3.800000   1.600000   1.240000   2.450000\n",
       "25%    2024.0  1526.250000   4.425000   1.770000   1.475000   2.607500\n",
       "50%    2024.0  1722.500000   4.600000   1.830000   1.600000   2.700000\n",
       "75%    2024.0  2030.000000   5.000000   1.985000   1.740000   2.900000\n",
       "max    2024.0  3447.000000   5.900000   2.370000   4.700000   4.460000"
      ]
     },
     "execution_count": 10,
     "metadata": {},
     "output_type": "execute_result"
    }
   ],
   "source": [
    "df.describe()"
   ]
  },
  {
   "cell_type": "code",
   "execution_count": 11,
   "id": "bc1bea87-aa08-4ed2-91ad-144a1963c678",
   "metadata": {},
   "outputs": [
    {
     "name": "stdout",
     "output_type": "stream",
     "text": [
      "<class 'pandas.core.frame.DataFrame'>\n",
      "RangeIndex: 91 entries, 0 to 90\n",
      "Data columns (total 41 columns):\n",
      " #   Column                      Non-Null Count  Dtype  \n",
      "---  ------                      --------------  -----  \n",
      " 0   brand                       91 non-null     object \n",
      " 1   model                       89 non-null     object \n",
      " 2   Year                        91 non-null     int64  \n",
      " 3   Max                         91 non-null     object \n",
      " 4   Min                         80 non-null     object \n",
      " 5   adult passangers            91 non-null     object \n",
      " 6   Peso (KG)                   76 non-null     float64\n",
      " 7   transmission                91 non-null     object \n",
      " 8   tipo combustible            91 non-null     object \n",
      " 9   Tanque Combustible          80 non-null     object \n",
      " 10  consumo                     80 non-null     object \n",
      " 11  4x4/AWD                     91 non-null     object \n",
      " 12  Carga Extra/Voluminosa      91 non-null     object \n",
      " 13  Capacidad Cajuela           72 non-null     object \n",
      " 14  Frenos Delanteros           91 non-null     object \n",
      " 15  Frenos Traseros             91 non-null     object \n",
      " 16  Asistencias                 91 non-null     object \n",
      " 17  Largo(m)                    91 non-null     float64\n",
      " 18  Ancho                       91 non-null     float64\n",
      " 19  Alto                        91 non-null     float64\n",
      " 20  Dist ejes                   74 non-null     float64\n",
      " 21  Altura al Suelo             91 non-null     object \n",
      " 22  Bolsas Frontales            91 non-null     object \n",
      " 23  Bolsas laterales            91 non-null     object \n",
      " 24  Cortina                     91 non-null     object \n",
      " 25  Rodilla (Conductor)         84 non-null     object \n",
      " 26  Monitor presion llantas     91 non-null     object \n",
      " 27  NCAP                        81 non-null     object \n",
      " 28  Frenado de emergencia       90 non-null     object \n",
      " 29  Camara de reversa           91 non-null     object \n",
      " 30  Camara 360                  81 non-null     object \n",
      " 31  Bluetooth                   91 non-null     object \n",
      " 32  Android auto/Apple play     91 non-null     object \n",
      " 33  Control Crucero             91 non-null     object \n",
      " 34  Contro Crucero Inteligente  91 non-null     object \n",
      " 35  Alerta Punto Ciego          91 non-null     object \n",
      " 36  Sensor de lluvia            84 non-null     object \n",
      " 37  Arrastre                    91 non-null     object \n",
      " 38  Jalon                       71 non-null     object \n",
      " 39  Carroceria                  91 non-null     object \n",
      " 40  Segmento                    91 non-null     object \n",
      "dtypes: float64(5), int64(1), object(35)\n",
      "memory usage: 29.3+ KB\n"
     ]
    }
   ],
   "source": [
    "df.info()"
   ]
  },
  {
   "cell_type": "code",
   "execution_count": 13,
   "id": "ceca91f4-55a7-4a3f-8aff-75f849cee67d",
   "metadata": {},
   "outputs": [
    {
     "name": "stderr",
     "output_type": "stream",
     "text": [
      "/Users/luisbarreras/anaconda3/lib/python3.11/site-packages/seaborn/_oldcore.py:1498: FutureWarning: is_categorical_dtype is deprecated and will be removed in a future version. Use isinstance(dtype, CategoricalDtype) instead\n",
      "  if pd.api.types.is_categorical_dtype(vector):\n",
      "/Users/luisbarreras/anaconda3/lib/python3.11/site-packages/seaborn/_oldcore.py:1498: FutureWarning: is_categorical_dtype is deprecated and will be removed in a future version. Use isinstance(dtype, CategoricalDtype) instead\n",
      "  if pd.api.types.is_categorical_dtype(vector):\n",
      "/Users/luisbarreras/anaconda3/lib/python3.11/site-packages/seaborn/_oldcore.py:1498: FutureWarning: is_categorical_dtype is deprecated and will be removed in a future version. Use isinstance(dtype, CategoricalDtype) instead\n",
      "  if pd.api.types.is_categorical_dtype(vector):\n"
     ]
    },
    {
     "data": {
      "text/plain": [
       "<Axes: xlabel='Segmento', ylabel='Largo(m)'>"
      ]
     },
     "execution_count": 13,
     "metadata": {},
     "output_type": "execute_result"
    },
    {
     "data": {
      "image/png": "[encoded data removed]",
      "text/plain": [
       "<Figure size 640x480 with 1 Axes>"
      ]
     },
     "metadata": {},
     "output_type": "display_data"
    }
   ],
   "source": [
    "sns.boxplot(x='Segmento', y='Largo(m)', data=df)"
   ]
  },
  {
   "cell_type": "code",
   "execution_count": 14,
   "id": "605de958-e215-46fe-80bb-767ce2fe2981",
   "metadata": {},
   "outputs": [
    {
     "name": "stderr",
     "output_type": "stream",
     "text": [
      "/Users/luisbarreras/anaconda3/lib/python3.11/site-packages/seaborn/_oldcore.py:1498: FutureWarning: is_categorical_dtype is deprecated and will be removed in a future version. Use isinstance(dtype, CategoricalDtype) instead\n",
      "  if pd.api.types.is_categorical_dtype(vector):\n",
      "/Users/luisbarreras/anaconda3/lib/python3.11/site-packages/seaborn/_oldcore.py:1498: FutureWarning: is_categorical_dtype is deprecated and will be removed in a future version. Use isinstance(dtype, CategoricalDtype) instead\n",
      "  if pd.api.types.is_categorical_dtype(vector):\n",
      "/Users/luisbarreras/anaconda3/lib/python3.11/site-packages/seaborn/_oldcore.py:1498: FutureWarning: is_categorical_dtype is deprecated and will be removed in a future version. Use isinstance(dtype, CategoricalDtype) instead\n",
      "  if pd.api.types.is_categorical_dtype(vector):\n",
      "/Users/luisbarreras/anaconda3/lib/python3.11/site-packages/seaborn/_oldcore.py:1498: FutureWarning: is_categorical_dtype is deprecated and will be removed in a future version. Use isinstance(dtype, CategoricalDtype) instead\n",
      "  if pd.api.types.is_categorical_dtype(vector):\n",
      "/Users/luisbarreras/anaconda3/lib/python3.11/site-packages/seaborn/_oldcore.py:1498: FutureWarning: is_categorical_dtype is deprecated and will be removed in a future version. Use isinstance(dtype, CategoricalDtype) instead\n",
      "  if pd.api.types.is_categorical_dtype(vector):\n",
      "/Users/luisbarreras/anaconda3/lib/python3.11/site-packages/seaborn/_oldcore.py:1498: FutureWarning: is_categorical_dtype is deprecated and will be removed in a future version. Use isinstance(dtype, CategoricalDtype) instead\n",
      "  if pd.api.types.is_categorical_dtype(vector):\n",
      "/Users/luisbarreras/anaconda3/lib/python3.11/site-packages/seaborn/_oldcore.py:1498: FutureWarning: is_categorical_dtype is deprecated and will be removed in a future version. Use isinstance(dtype, CategoricalDtype) instead\n",
      "  if pd.api.types.is_categorical_dtype(vector):\n",
      "/Users/luisbarreras/anaconda3/lib/python3.11/site-packages/seaborn/_oldcore.py:1119: FutureWarning: use_inf_as_na option is deprecated and will be removed in a future version. Convert inf values to NaN before operating instead.\n",
      "  with pd.option_context('mode.use_inf_as_na', True):\n",
      "/Users/luisbarreras/anaconda3/lib/python3.11/site-packages/seaborn/_oldcore.py:1119: FutureWarning: use_inf_as_na option is deprecated and will be removed in a future version. Convert inf values to NaN before operating instead.\n",
      "  with pd.option_context('mode.use_inf_as_na', True):\n",
      "/Users/luisbarreras/anaconda3/lib/python3.11/site-packages/seaborn/categorical.py:3544: UserWarning: 20.0% of the points cannot be placed; you may want to decrease the size of the markers or use stripplot.\n",
      "  warnings.warn(msg, UserWarning)\n",
      "/Users/luisbarreras/anaconda3/lib/python3.11/site-packages/seaborn/categorical.py:3544: UserWarning: 10.5% of the points cannot be placed; you may want to decrease the size of the markers or use stripplot.\n",
      "  warnings.warn(msg, UserWarning)\n",
      "/Users/luisbarreras/anaconda3/lib/python3.11/site-packages/seaborn/categorical.py:3544: UserWarning: 12.5% of the points cannot be placed; you may want to decrease the size of the markers or use stripplot.\n",
      "  warnings.warn(msg, UserWarning)\n"
     ]
    },
    {
     "data": {
      "text/plain": [
       "<Axes: xlabel='Segmento', ylabel='Largo(m)'>"
      ]
     },
     "execution_count": 14,
     "metadata": {},
     "output_type": "execute_result"
    },
    {
     "name": "stderr",
     "output_type": "stream",
     "text": [
      "/Users/luisbarreras/anaconda3/lib/python3.11/site-packages/seaborn/categorical.py:3544: UserWarning: 5.3% of the points cannot be placed; you may want to decrease the size of the markers or use stripplot.\n",
      "  warnings.warn(msg, UserWarning)\n"
     ]
    },
    {
     "data": {
      "image/png": "[encoded data removed]",
      "text/plain": [
       "<Figure size 640x480 with 1 Axes>"
      ]
     },
     "metadata": {},
     "output_type": "display_data"
    }
   ],
   "source": [
    "sns.swarmplot(x='Segmento', y='Largo(m)', data=df)"
   ]
  },
  {
   "cell_type": "code",
   "execution_count": 15,
   "id": "b0275018-d194-4c39-b285-1c2d133b94ff",
   "metadata": {},
   "outputs": [
    {
     "name": "stderr",
     "output_type": "stream",
     "text": [
      "/Users/luisbarreras/anaconda3/lib/python3.11/site-packages/seaborn/_oldcore.py:1498: FutureWarning: is_categorical_dtype is deprecated and will be removed in a future version. Use isinstance(dtype, CategoricalDtype) instead\n",
      "  if pd.api.types.is_categorical_dtype(vector):\n",
      "/Users/luisbarreras/anaconda3/lib/python3.11/site-packages/seaborn/_oldcore.py:1498: FutureWarning: is_categorical_dtype is deprecated and will be removed in a future version. Use isinstance(dtype, CategoricalDtype) instead\n",
      "  if pd.api.types.is_categorical_dtype(vector):\n",
      "/Users/luisbarreras/anaconda3/lib/python3.11/site-packages/seaborn/_oldcore.py:1498: FutureWarning: is_categorical_dtype is deprecated and will be removed in a future version. Use isinstance(dtype, CategoricalDtype) instead\n",
      "  if pd.api.types.is_categorical_dtype(vector):\n"
     ]
    },
    {
     "data": {
      "text/plain": [
       "<Axes: xlabel='Segmento', ylabel='count'>"
      ]
     },
     "execution_count": 15,
     "metadata": {},
     "output_type": "execute_result"
    },
    {
     "data": {
      "image/png": "[encoded data removed]",
      "text/plain": [
       "<Figure size 640x480 with 1 Axes>"
      ]
     },
     "metadata": {},
     "output_type": "display_data"
    }
   ],
   "source": [
    "sns.countplot(x='Segmento',data=df)"
   ]
  },
  {
   "cell_type": "code",
   "execution_count": 18,
   "id": "39a40229-9362-49a3-8750-cef0eb520910",
   "metadata": {},
   "outputs": [
    {
     "data": {
      "text/plain": [
       "array(['Ciudad', 'Sedan-MidSize', 'Sedan-Fullsize*', 'SUV-City',\n",
       "       'SUV-MidSize', 'SUV-MidSize', 'SUV-Fullsize/Hybrid',\n",
       "       'SUV-Fullsize/Hybrid', 'Pickup-MidSize', 'Pickup-MidSize',\n",
       "       'MiniVan', 'MiniVan/Hybrid', 'Sedan/MidSize/Hybrid',\n",
       "       'Pickup-FullSize/Hybrid', 'Ciudad', 'Sedan-MidSize',\n",
       "       'Sedan-FullSize', 'Sedan-FullSize/Hybrid', 'SUV-MidSize',\n",
       "       'SUV-MidSize', 'SUV-Fullsize', 'SUV-Fullsize/Hybrid',\n",
       "       'SUV-ExtendedSize', 'MiniVan', 'Ciudad', 'Sedan-SmallSize',\n",
       "       'Sedan-SmallSize', 'Sedan-MidSize', 'SUV-SmallSize',\n",
       "       'SUV-SmallSize', 'SUV-FullSize', 'SUV-MidSize', 'SUV-ExtendedSize',\n",
       "       'SUV-FullSize', 'SUV-ExtendedSize', 'SUV-ExtendedSize',\n",
       "       'Pickup-SmallSize', 'Pickup-MidSize', 'Pickup-MidSize',\n",
       "       'Pickup-FullSize', 'Ciudad', 'Sedan-MidSize', 'Sedan-MidSize',\n",
       "       'Sedan-Fullsize', 'SUV-MidSize', 'SUV-MidSize', 'SUV-FullSize',\n",
       "       'Pickup', 'Sedan-MidSize', 'Ciudad', 'Sedan-FullSize',\n",
       "       'Sedan-MidSize', 'SUV-SmallSize', 'SUV-MidSize', 'SUV-SmallSize',\n",
       "       'SUV-MidSize', 'SUV-ExtendedSize', 'Ciudad', 'SUV-MidSize',\n",
       "       'SUV-MidSize', 'SUV-MidSize', 'SUV-MidSize', 'SUV-ExtendedSize',\n",
       "       'Pickup-MidSize', 'Pickup', 'SUV-MidSize', 'Pickup-MidSize',\n",
       "       'Pickup-FullSize', 'Pickup-FullSize', 'SUV-SmallSize', 'Ciudad',\n",
       "       'SUV-MidSize', 'SUV-MidSize', 'SUV-Fullsize', 'SUV-ExtendedSize',\n",
       "       'SUV-SmallSize', 'Sedan-MidSize', 'Sedan-Fullsize',\n",
       "       'Pickup-SmallSize', 'Pickup-SmallSize', 'Ciudad', 'Sedan-MidSize',\n",
       "       'Ciudad', 'Sedan-MidSize', 'SUV-SmallSize', 'SUV-SmallSize',\n",
       "       'SUV-MidSize', 'SUV-MidSize', 'SUV-MidSize', 'SUV-ExtendedSize',\n",
       "       'SUV-ExtendedSize'], dtype=object)"
      ]
     },
     "execution_count": 18,
     "metadata": {},
     "output_type": "execute_result"
    }
   ],
   "source": [
    "df['Segmento'].values"
   ]
  },
  {
   "cell_type": "code",
   "execution_count": 20,
   "id": "e577b9e9-5784-4431-9bcb-08e50658c21c",
   "metadata": {},
   "outputs": [
    {
     "data": {
      "text/plain": [
       "array(['Ciudad', 'Sedan-MidSize', 'Sedan-Fullsize*', 'SUV-City',\n",
       "       'SUV-MidSize', 'SUV-Fullsize/Hybrid', 'Pickup-MidSize', 'MiniVan',\n",
       "       'MiniVan/Hybrid', 'Sedan/MidSize/Hybrid', 'Pickup-FullSize/Hybrid',\n",
       "       'Sedan-FullSize', 'Sedan-FullSize/Hybrid', 'SUV-Fullsize',\n",
       "       'SUV-ExtendedSize', 'Sedan-SmallSize', 'SUV-SmallSize',\n",
       "       'SUV-FullSize', 'Pickup-SmallSize', 'Pickup-FullSize',\n",
       "       'Sedan-Fullsize', 'Pickup'], dtype=object)"
      ]
     },
     "execution_count": 20,
     "metadata": {},
     "output_type": "execute_result"
    }
   ],
   "source": [
    "df['Segmento'].unique()"
   ]
  },
  {
   "cell_type": "code",
   "execution_count": 21,
   "id": "0d9340b8-e144-4b53-ace0-fe98800877c2",
   "metadata": {},
   "outputs": [],
   "source": [
    "def normalize_segments(label):\n",
    "    city_values = ['Ciudad']\n",
    "    suv_mid_values = ['SUV-MidSize']"
   ]
  },
  {
   "cell_type": "code",
   "execution_count": null,
   "id": "557cb698-0c0f-426f-825a-8b3d2cde4fd5",
   "metadata": {},
   "outputs": [],
   "source": []
  }
 ],
 "metadata": {
  "kernelspec": {
   "display_name": "Python 3 (ipykernel)",
   "language": "python",
   "name": "python3"
  },
  "language_info": {
   "codemirror_mode": {
    "name": "ipython",
    "version": 3
   },
   "file_extension": ".py",
   "mimetype": "text/x-python",
   "name": "python",
   "nbconvert_exporter": "python",
   "pygments_lexer": "ipython3",
   "version": "3.11.5"
  }
 },
 "nbformat": 4,
 "nbformat_minor": 5
}
