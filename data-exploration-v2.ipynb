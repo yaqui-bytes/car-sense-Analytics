{
 "cells": [
  {
   "cell_type": "code",
   "execution_count": 1,
   "id": "438a29a2-2457-4f81-a084-8ed1e3341bbe",
   "metadata": {},
   "outputs": [],
   "source": [
    "import pandas as pd\n",
    "import seaborn as sns\n",
    "import matplotlib.pyplot as plt\n",
    "import numpy as np\n",
    "\n",
    "\n",
    "%matplotlib inline\n",
    "\n",
    "import warnings\n",
    "warnings.filterwarnings(\"ignore\", \"is_categorical_dtype\")\n",
    "warnings.filterwarnings(\"ignore\", \"use_inf_as_na\")\n",
    "from re import sub\n",
    "from decimal import Decimal\n",
    "\n",
    "from sklearn.model_selection import train_test_split\n",
    "from sklearn.linear_model import SGDClassifier\n",
    "from sklearn.metrics import accuracy_score, confusion_matrix, classification_report\n"
   ]
  },
  {
   "cell_type": "code",
   "execution_count": 3,
   "id": "2d7d4f15-c9a6-4615-91df-29ee77da9db3",
   "metadata": {},
   "outputs": [
    {
     "name": "stdout",
     "output_type": "stream",
     "text": [
      "<class 'pandas.core.frame.DataFrame'>\n",
      "RangeIndex: 107 entries, 0 to 106\n",
      "Data columns (total 41 columns):\n",
      " #   Column                   Non-Null Count  Dtype  \n",
      "---  ------                   --------------  -----  \n",
      " 0   brand                    107 non-null    object \n",
      " 1   model                    107 non-null    object \n",
      " 2   year                     107 non-null    int64  \n",
      " 3   max                      107 non-null    object \n",
      " 4   min                      107 non-null    object \n",
      " 5   adult_passangers         107 non-null    int64  \n",
      " 6   weight                   107 non-null    int64  \n",
      " 7   transmission             107 non-null    object \n",
      " 8   fuel                     107 non-null    object \n",
      " 9   tank                     107 non-null    object \n",
      " 10  fuel_consumption         106 non-null    float64\n",
      " 11  4x4/awd                  107 non-null    object \n",
      " 12  big_volume_cargo         107 non-null    object \n",
      " 13  trunk_size               107 non-null    object \n",
      " 14  front_break              107 non-null    object \n",
      " 15  rear_break               107 non-null    object \n",
      " 16  braking_assists          107 non-null    object \n",
      " 17  length                   107 non-null    float64\n",
      " 18  width                    107 non-null    float64\n",
      " 19  height                   107 non-null    float64\n",
      " 20  dist_axis                107 non-null    float64\n",
      " 21  height_to_the ground     107 non-null    object \n",
      " 22  front_airbags            107 non-null    object \n",
      " 23  side_airbags             107 non-null    object \n",
      " 24  curtain_air_bags         107 non-null    object \n",
      " 25  knee_air_bags            107 non-null    object \n",
      " 26  tire_pressure_monitor    107 non-null    object \n",
      " 27  NCAP                     107 non-null    int64  \n",
      " 28  emergency_brake          107 non-null    object \n",
      " 29  reverse_camera           107 non-null    object \n",
      " 30  camera_360               107 non-null    object \n",
      " 31  bluetooth                107 non-null    object \n",
      " 32  android_auto/apple+play  107 non-null    object \n",
      " 33  cruise_control           107 non-null    object \n",
      " 34  cruise_control_advanced  107 non-null    object \n",
      " 35  blind_spot_alert         107 non-null    object \n",
      " 36  rain_sensor              107 non-null    object \n",
      " 37  car_tow                  107 non-null    object \n",
      " 38  car_pull                 107 non-null    object \n",
      " 39  body_type                107 non-null    object \n",
      " 40  segment                  107 non-null    object \n",
      "dtypes: float64(5), int64(4), object(32)\n",
      "memory usage: 34.4+ KB\n"
     ]
    }
   ],
   "source": [
    "df = pd.read_csv('../../ML/car-sense-Analytics/car_m_v_dataset.csv', skiprows=1)\n",
    "df.info()"
   ]
  },
  {
   "cell_type": "code",
   "execution_count": 4,
   "id": "0d9340b8-e144-4b53-ace0-fe98800877c2",
   "metadata": {},
   "outputs": [],
   "source": [
    "def normalize_segments(raw_segment):\n",
    "    segments = dict(\n",
    "        city_values = ['Ciudad'],\n",
    "        sed_s_values = ['Sedan-SmallSize'],\n",
    "        sed_m_values = ['Sedan-MidSize', 'Sedan/MidSize/Hybrid'],\n",
    "        sed_f_values = ['Sedan-FullSize','Sedan-Fullsize*', 'Sedan-FullSize/Hybrid', 'Sedan-Fullsize'],\n",
    "        suv_s_values = ['SUV-City', 'SUV-SmallSize'],\n",
    "        suv_m_values = ['SUV-MidSize'] ,\n",
    "        suv_f_values = ['SUV-Fullsize', 'SUV-Fullsize/Hybrid', 'SUV-FullSize'],\n",
    "        suv_xl_values = ['SUV-ExtendedSize','SUV-ExtendedSize/Hybrid'],\n",
    "        pu_s_values = ['Pickup-SmallSize'],\n",
    "        pu_m_values = ['Pickup-MidSize'],\n",
    "        pu_f_values = ['Pickup-FullSize/Hybrid', 'Pickup-FullSize'],\n",
    "        mini_van_values = ['MiniVan', 'MiniVan/Hybrid']\n",
    "        \n",
    "    )\n",
    "    for k, values in segments.items():\n",
    "        try:\n",
    "            if values.index(raw_segment) >= 0:\n",
    "                return k[:-7]\n",
    "        except ValueError:\n",
    "            continue\n",
    "    \n",
    "    print('raw_segment: [{}]not found.'.format(raw_segment))\n",
    "    return 'Not found'\n",
    "    \n",
    "df['segment_normalized'] = df['segment'].apply(normalize_segments)"
   ]
  },
  {
   "cell_type": "code",
   "execution_count": 5,
   "id": "618ad698-6de4-48b6-b610-1de056b54e94",
   "metadata": {},
   "outputs": [],
   "source": [
    "def category_classifer(raw_segment):\n",
    "    segments = dict(\n",
    "        city_values = ['Ciudad'],\n",
    "        sedan_values = [\n",
    "            'Sedan-SmallSize', 'Sedan-MidSize', 'Sedan/MidSize/Hybrid', \n",
    "            'Sedan-FullSize','Sedan-Fullsize*', 'Sedan-FullSize/Hybrid', 'Sedan-Fullsize'\n",
    "        ],\n",
    "       \n",
    "        suv_values = [\n",
    "            'SUV-City', 'SUV-SmallSize', 'SUV-MidSize', \n",
    "            'SUV-Fullsize', 'SUV-Fullsize/Hybrid', \n",
    "            'SUV-FullSize','SUV-ExtendedSize', 'SUV-ExtendedSize/Hybrid'\n",
    "        ],\n",
    "       \n",
    "        pu_values = ['Pickup-SmallSize', 'Pickup-MidSize', 'Pickup-FullSize/Hybrid', 'Pickup-FullSize', ],\n",
    "        mini_van_values = ['MiniVan', 'MiniVan/Hybrid']\n",
    "        \n",
    "    )\n",
    "    for k, values in segments.items():\n",
    "        try:\n",
    "            if values.index(raw_segment) >= 0:\n",
    "                return k[:-7]\n",
    "        except ValueError:\n",
    "            continue\n",
    "    \n",
    "    print('category: [{}]not found.'.format(raw_segment))\n",
    "    return 'Not found'\n",
    "\n",
    "df['category'] = df['segment'].apply(category_classifer)\n"
   ]
  },
  {
   "cell_type": "code",
   "execution_count": 6,
   "id": "3f421664-f0ed-42dc-bfcd-9aaf4a940c5f",
   "metadata": {},
   "outputs": [],
   "source": [
    "def ground_category(raw_segment):\n",
    "    segments = dict(\n",
    "        city_values = ['Ciudad'],\n",
    "        sedan_values = [\n",
    "            'Sedan-SmallSize', 'Sedan-MidSize', 'Sedan/MidSize/Hybrid', \n",
    "            'Sedan-FullSize','Sedan-Fullsize*', 'Sedan-FullSize/Hybrid', 'Sedan-Fullsize'\n",
    "        ],\n",
    "       \n",
    "        suv_values = [\n",
    "            'SUV-City', 'SUV-SmallSize', 'SUV-MidSize', \n",
    "            'SUV-Fullsize', 'SUV-Fullsize/Hybrid', \n",
    "            'SUV-FullSize','SUV-ExtendedSize', 'SUV-ExtendedSize/Hybrid'\n",
    "        ],\n",
    "       \n",
    "        pu_values = ['Pickup-SmallSize', 'Pickup-MidSize', 'Pickup-FullSize/Hybrid', 'Pickup-FullSize', ],\n",
    "        mini_van_values = ['MiniVan', 'MiniVan/Hybrid']\n",
    "        \n",
    "    )\n",
    "    for k, values in segments.items():\n",
    "        try:\n",
    "            if values.index(raw_segment) >= 0:\n",
    "                return k[:-7]\n",
    "        except ValueError:\n",
    "            continue\n",
    "    \n",
    "    print('category: [{}]not found.'.format(raw_segment))\n",
    "    return 'Not found'\n",
    "\n",
    "df['category'] = df['segment'].apply(category_classifer)"
   ]
  },
  {
   "cell_type": "code",
   "execution_count": 7,
   "id": "14f4358e-a44f-4573-b356-8c8472ef1daa",
   "metadata": {},
   "outputs": [
    {
     "name": "stdout",
     "output_type": "stream",
     "text": [
      "dist_axis missing values: 0\n",
      "dist_axis missing values: 0\n"
     ]
    },
    {
     "data": {
      "text/plain": [
       "0      2.60\n",
       "1      2.60\n",
       "2      2.60\n",
       "3      2.60\n",
       "4      2.60\n",
       "       ... \n",
       "102    2.77\n",
       "103    2.77\n",
       "104    2.81\n",
       "105    2.90\n",
       "106    2.27\n",
       "Name: dist_axis, Length: 107, dtype: float64"
      ]
     },
     "execution_count": 7,
     "metadata": {},
     "output_type": "execute_result"
    }
   ],
   "source": [
    "\n",
    "main_columns = ['brand', 'model']\n",
    "filtered_df = df[df['dist_axis'].isna()]\n",
    "\n",
    "df_groupby = df.groupby(['segment_normalized'])['dist_axis'].mean()\n",
    "\n",
    "\n",
    "\n",
    "\n",
    "print('dist_axis missing values: {}'.format(df['dist_axis'].isnull().sum()))\n",
    "\n",
    "def fill_missing_dist_axis(row):\n",
    "    if np.isnan(row['dist_axis']):\n",
    "        return df_groupby[row['segment_normalized']]\n",
    "    else:\n",
    "        return row['dist_axis']\n",
    "\n",
    "\n",
    "\n",
    "df['dist_axis'] = df.apply(lambda row: fill_missing_dist_axis(row), axis=1)\n",
    "\n",
    "print('dist_axis missing values: {}'.format(df['dist_axis'].isnull().sum()))\n",
    "df['dist_axis'] "
   ]
  },
  {
   "cell_type": "code",
   "execution_count": 8,
   "id": "d4ff02c4-0063-4755-bb24-4a96637d0d1d",
   "metadata": {},
   "outputs": [
    {
     "name": "stderr",
     "output_type": "stream",
     "text": [
      "/Users/luisbarreras/anaconda3/lib/python3.11/site-packages/seaborn/matrix.py:260: FutureWarning: Format strings passed to MaskedConstant are ignored, but in future may error or produce different behavior\n",
      "  annotation = (\"{:\" + self.fmt + \"}\").format(val)\n"
     ]
    },
    {
     "data": {
      "text/plain": [
       "<Axes: >"
      ]
     },
     "execution_count": 8,
     "metadata": {},
     "output_type": "execute_result"
    },
    {
     "data": {
      "image/png": "[encoded data removed]",
      "text/plain": [
       "<Figure size 640x480 with 2 Axes>"
      ]
     },
     "metadata": {},
     "output_type": "display_data"
    }
   ],
   "source": [
    "sns.heatmap(df.corr(numeric_only=True), annot=True, cmap='viridis')"
   ]
  },
  {
   "cell_type": "markdown",
   "id": "cc7f11e7-6e68-4f49-b6a8-0f1f9e074bb0",
   "metadata": {},
   "source": [
    "## Transformations of data"
   ]
  },
  {
   "cell_type": "code",
   "execution_count": 9,
   "id": "1d226541-9b05-4783-889d-f15409abc020",
   "metadata": {},
   "outputs": [],
   "source": [
    "\n",
    "\n",
    "# df['max_price'] = df['max'].apply(lambda x:Decimal(sub(r'[^\\d.]', '', x) ))\n",
    "df['min_price'] = df['min'].apply(lambda x:Decimal(sub(r'[^\\d.]', '', x) ))\n",
    "df['trunk_size_number'] = df['trunk_size'].apply(lambda x:Decimal(sub(r'[^\\d.]', '', x) ))\n",
    "df['transmission_automatic'] = df['transmission'].apply(lambda x: 1 if 'A' in x else 0)\n",
    "\n",
    "df['weight_number'] = df['weight'].apply(lambda x:Decimal(sub(r'[^\\d.]', '', str(x)) ))\n",
    "# df['tank_number'] = df['tank'].apply(lambda x:Decimal(sub(r'[^\\d.]', '', str(x)) ))\n",
    "\n",
    "cast_boolean = lambda x: 1 if x == 'yes' else 0\n",
    "\n",
    "# Yes/No Columns\n",
    "# df['cruise_control_advanced'] = df['cruise_control_advanced'].apply(cast_boolean)\n",
    "# df['cruise_control'] = df['cruise_control'].apply(cast_boolean)\n",
    "# df['blind_spot_alert'] = df['blind_spot_alert'].apply(cast_boolean)\n",
    "# df['rain_sensor'] = df['rain_sensor'].apply(cast_boolean)\n",
    "df['car_tow'] = df['car_tow'].apply(cast_boolean)\n",
    "# df['car_pull'] = df['car_pull'].apply(cast_boolean)\n"
   ]
  },
  {
   "cell_type": "code",
   "execution_count": 10,
   "id": "c02187ac-ee06-4b94-b2e6-b57a448883be",
   "metadata": {},
   "outputs": [],
   "source": [
    "# df['height_to_the ground_number'] = df['height_to_the ground']\n",
    "\n",
    "def cast_height_to_ground(ground):\n",
    "    value = ground.split('/')[0]\n",
    "    switcher = {\n",
    "        'normal': 0,\n",
    "        'high': 1,\n",
    "        'extra_high': 2\n",
    "    }\n",
    "\n",
    "    return switcher.get(value)\n",
    "\n",
    "df['ground_clearance'] = df['height_to_the ground'].apply(cast_height_to_ground)\n"
   ]
  },
  {
   "cell_type": "code",
   "execution_count": 11,
   "id": "dca1e643-03da-4609-9aa5-983a9aedd90a",
   "metadata": {},
   "outputs": [
    {
     "data": {
      "text/html": [
       "<div>\n",
       "<style scoped>\n",
       "    .dataframe tbody tr th:only-of-type {\n",
       "        vertical-align: middle;\n",
       "    }\n",
       "\n",
       "    .dataframe tbody tr th {\n",
       "        vertical-align: top;\n",
       "    }\n",
       "\n",
       "    .dataframe thead th {\n",
       "        text-align: right;\n",
       "    }\n",
       "</style>\n",
       "<table border=\"1\" class=\"dataframe\">\n",
       "  <thead>\n",
       "    <tr style=\"text-align: right;\">\n",
       "      <th></th>\n",
       "      <th>adult_passangers</th>\n",
       "      <th>fuel_consumption</th>\n",
       "      <th>length</th>\n",
       "      <th>width</th>\n",
       "      <th>height</th>\n",
       "      <th>dist_axis</th>\n",
       "      <th>car_tow</th>\n",
       "      <th>segment_normalized</th>\n",
       "      <th>category</th>\n",
       "      <th>min_price</th>\n",
       "      <th>trunk_size_number</th>\n",
       "      <th>weight_number</th>\n",
       "      <th>ground_clearance</th>\n",
       "    </tr>\n",
       "  </thead>\n",
       "  <tbody>\n",
       "    <tr>\n",
       "      <th>0</th>\n",
       "      <td>5</td>\n",
       "      <td>20.0</td>\n",
       "      <td>4.4</td>\n",
       "      <td>1.6</td>\n",
       "      <td>1.4</td>\n",
       "      <td>2.6</td>\n",
       "      <td>0</td>\n",
       "      <td>sed_s</td>\n",
       "      <td>sedan</td>\n",
       "      <td>316100</td>\n",
       "      <td>475</td>\n",
       "      <td>1035</td>\n",
       "      <td>0</td>\n",
       "    </tr>\n",
       "    <tr>\n",
       "      <th>1</th>\n",
       "      <td>5</td>\n",
       "      <td>20.0</td>\n",
       "      <td>4.4</td>\n",
       "      <td>1.6</td>\n",
       "      <td>1.4</td>\n",
       "      <td>2.6</td>\n",
       "      <td>0</td>\n",
       "      <td>sed_s</td>\n",
       "      <td>sedan</td>\n",
       "      <td>331100</td>\n",
       "      <td>475</td>\n",
       "      <td>1035</td>\n",
       "      <td>0</td>\n",
       "    </tr>\n",
       "    <tr>\n",
       "      <th>2</th>\n",
       "      <td>5</td>\n",
       "      <td>20.0</td>\n",
       "      <td>4.4</td>\n",
       "      <td>1.6</td>\n",
       "      <td>1.4</td>\n",
       "      <td>2.6</td>\n",
       "      <td>0</td>\n",
       "      <td>sed_s</td>\n",
       "      <td>sedan</td>\n",
       "      <td>341000</td>\n",
       "      <td>475</td>\n",
       "      <td>1035</td>\n",
       "      <td>0</td>\n",
       "    </tr>\n",
       "    <tr>\n",
       "      <th>3</th>\n",
       "      <td>5</td>\n",
       "      <td>20.0</td>\n",
       "      <td>4.4</td>\n",
       "      <td>1.6</td>\n",
       "      <td>1.4</td>\n",
       "      <td>2.6</td>\n",
       "      <td>0</td>\n",
       "      <td>sed_s</td>\n",
       "      <td>sedan</td>\n",
       "      <td>356000</td>\n",
       "      <td>475</td>\n",
       "      <td>1035</td>\n",
       "      <td>0</td>\n",
       "    </tr>\n",
       "    <tr>\n",
       "      <th>4</th>\n",
       "      <td>5</td>\n",
       "      <td>20.0</td>\n",
       "      <td>4.4</td>\n",
       "      <td>1.6</td>\n",
       "      <td>1.4</td>\n",
       "      <td>2.6</td>\n",
       "      <td>0</td>\n",
       "      <td>sed_s</td>\n",
       "      <td>sedan</td>\n",
       "      <td>392200</td>\n",
       "      <td>475</td>\n",
       "      <td>1035</td>\n",
       "      <td>0</td>\n",
       "    </tr>\n",
       "  </tbody>\n",
       "</table>\n",
       "</div>"
      ],
      "text/plain": [
       "   adult_passangers  fuel_consumption  length  width  height  dist_axis  \\\n",
       "0                 5              20.0     4.4    1.6     1.4        2.6   \n",
       "1                 5              20.0     4.4    1.6     1.4        2.6   \n",
       "2                 5              20.0     4.4    1.6     1.4        2.6   \n",
       "3                 5              20.0     4.4    1.6     1.4        2.6   \n",
       "4                 5              20.0     4.4    1.6     1.4        2.6   \n",
       "\n",
       "   car_tow segment_normalized category min_price trunk_size_number  \\\n",
       "0        0              sed_s    sedan    316100               475   \n",
       "1        0              sed_s    sedan    331100               475   \n",
       "2        0              sed_s    sedan    341000               475   \n",
       "3        0              sed_s    sedan    356000               475   \n",
       "4        0              sed_s    sedan    392200               475   \n",
       "\n",
       "  weight_number  ground_clearance  \n",
       "0          1035                 0  \n",
       "1          1035                 0  \n",
       "2          1035                 0  \n",
       "3          1035                 0  \n",
       "4          1035                 0  "
      ]
     },
     "execution_count": 11,
     "metadata": {},
     "output_type": "execute_result"
    }
   ],
   "source": [
    "# Delete columns not needed\n",
    "df = df.drop(columns=[\n",
    "    'body_type', 'segment', 'max', 'min', 'transmission', 'brand', 'model', 'year', 'weight', 'trunk_size',\n",
    "    'front_break', 'rear_break', 'braking_assists', 'fuel',\n",
    "    '4x4/awd', 'big_volume_cargo', 'height_to_the ground', 'tank',\n",
    "     'front_airbags',\t'side_airbags',\t'curtain_air_bags',\t'knee_air_bags',\n",
    "    'tire_pressure_monitor', 'emergency_brake',\t'reverse_camera','camera_360',\n",
    "    'bluetooth', 'android_auto/apple+play', 'cruise_control', 'cruise_control_advanced',\n",
    "    'blind_spot_alert', 'rain_sensor', 'NCAP',  'transmission_automatic', 'car_pull', 'tank_number'\n",
    "    ],\n",
    "errors='ignore')\n",
    "\n",
    " \n",
    "\n",
    "df.head(5)"
   ]
  },
  {
   "cell_type": "code",
   "execution_count": 12,
   "id": "1e6cccd1-2025-4f23-b38f-a4cd2d61aa7d",
   "metadata": {},
   "outputs": [
    {
     "data": {
      "text/html": [
       "<div>\n",
       "<style scoped>\n",
       "    .dataframe tbody tr th:only-of-type {\n",
       "        vertical-align: middle;\n",
       "    }\n",
       "\n",
       "    .dataframe tbody tr th {\n",
       "        vertical-align: top;\n",
       "    }\n",
       "\n",
       "    .dataframe thead th {\n",
       "        text-align: right;\n",
       "    }\n",
       "</style>\n",
       "<table border=\"1\" class=\"dataframe\">\n",
       "  <thead>\n",
       "    <tr style=\"text-align: right;\">\n",
       "      <th></th>\n",
       "      <th>adult_passangers</th>\n",
       "      <th>fuel_consumption</th>\n",
       "      <th>length</th>\n",
       "      <th>width</th>\n",
       "      <th>height</th>\n",
       "      <th>dist_axis</th>\n",
       "      <th>car_tow</th>\n",
       "      <th>segment_normalized</th>\n",
       "      <th>category</th>\n",
       "      <th>min_price</th>\n",
       "      <th>trunk_size_number</th>\n",
       "      <th>weight_number</th>\n",
       "      <th>ground_clearance</th>\n",
       "    </tr>\n",
       "  </thead>\n",
       "  <tbody>\n",
       "    <tr>\n",
       "      <th>0</th>\n",
       "      <td>0.5</td>\n",
       "      <td>0.599604</td>\n",
       "      <td>0.285714</td>\n",
       "      <td>0.0</td>\n",
       "      <td>0.046243</td>\n",
       "      <td>0.150685</td>\n",
       "      <td>0</td>\n",
       "      <td>sed_s</td>\n",
       "      <td>sedan</td>\n",
       "      <td>0.028334</td>\n",
       "      <td>0.176381</td>\n",
       "      <td>0.007816</td>\n",
       "      <td>0.0</td>\n",
       "    </tr>\n",
       "    <tr>\n",
       "      <th>1</th>\n",
       "      <td>0.5</td>\n",
       "      <td>0.599604</td>\n",
       "      <td>0.285714</td>\n",
       "      <td>0.0</td>\n",
       "      <td>0.046243</td>\n",
       "      <td>0.150685</td>\n",
       "      <td>0</td>\n",
       "      <td>sed_s</td>\n",
       "      <td>sedan</td>\n",
       "      <td>0.037554</td>\n",
       "      <td>0.176381</td>\n",
       "      <td>0.007816</td>\n",
       "      <td>0.0</td>\n",
       "    </tr>\n",
       "    <tr>\n",
       "      <th>2</th>\n",
       "      <td>0.5</td>\n",
       "      <td>0.599604</td>\n",
       "      <td>0.285714</td>\n",
       "      <td>0.0</td>\n",
       "      <td>0.046243</td>\n",
       "      <td>0.150685</td>\n",
       "      <td>0</td>\n",
       "      <td>sed_s</td>\n",
       "      <td>sedan</td>\n",
       "      <td>0.043639</td>\n",
       "      <td>0.176381</td>\n",
       "      <td>0.007816</td>\n",
       "      <td>0.0</td>\n",
       "    </tr>\n",
       "    <tr>\n",
       "      <th>3</th>\n",
       "      <td>0.5</td>\n",
       "      <td>0.599604</td>\n",
       "      <td>0.285714</td>\n",
       "      <td>0.0</td>\n",
       "      <td>0.046243</td>\n",
       "      <td>0.150685</td>\n",
       "      <td>0</td>\n",
       "      <td>sed_s</td>\n",
       "      <td>sedan</td>\n",
       "      <td>0.052858</td>\n",
       "      <td>0.176381</td>\n",
       "      <td>0.007816</td>\n",
       "      <td>0.0</td>\n",
       "    </tr>\n",
       "    <tr>\n",
       "      <th>4</th>\n",
       "      <td>0.5</td>\n",
       "      <td>0.599604</td>\n",
       "      <td>0.285714</td>\n",
       "      <td>0.0</td>\n",
       "      <td>0.046243</td>\n",
       "      <td>0.150685</td>\n",
       "      <td>0</td>\n",
       "      <td>sed_s</td>\n",
       "      <td>sedan</td>\n",
       "      <td>0.075108</td>\n",
       "      <td>0.176381</td>\n",
       "      <td>0.007816</td>\n",
       "      <td>0.0</td>\n",
       "    </tr>\n",
       "  </tbody>\n",
       "</table>\n",
       "</div>"
      ],
      "text/plain": [
       "   adult_passangers  fuel_consumption    length  width    height  dist_axis  \\\n",
       "0               0.5          0.599604  0.285714    0.0  0.046243   0.150685   \n",
       "1               0.5          0.599604  0.285714    0.0  0.046243   0.150685   \n",
       "2               0.5          0.599604  0.285714    0.0  0.046243   0.150685   \n",
       "3               0.5          0.599604  0.285714    0.0  0.046243   0.150685   \n",
       "4               0.5          0.599604  0.285714    0.0  0.046243   0.150685   \n",
       "\n",
       "   car_tow segment_normalized category  min_price  trunk_size_number  \\\n",
       "0        0              sed_s    sedan   0.028334           0.176381   \n",
       "1        0              sed_s    sedan   0.037554           0.176381   \n",
       "2        0              sed_s    sedan   0.043639           0.176381   \n",
       "3        0              sed_s    sedan   0.052858           0.176381   \n",
       "4        0              sed_s    sedan   0.075108           0.176381   \n",
       "\n",
       "   weight_number  ground_clearance  \n",
       "0       0.007816               0.0  \n",
       "1       0.007816               0.0  \n",
       "2       0.007816               0.0  \n",
       "3       0.007816               0.0  \n",
       "4       0.007816               0.0  "
      ]
     },
     "execution_count": 12,
     "metadata": {},
     "output_type": "execute_result"
    }
   ],
   "source": [
    "from sklearn.preprocessing import MinMaxScaler\n",
    "scaler = MinMaxScaler()\n",
    "\n",
    "numeric_columns = ['adult_passangers', 'weight_number', 'fuel_consumption', 'trunk_size_number', 'length',\n",
    "                    'min_price', 'height', 'dist_axis', 'ground_clearance', 'width'\n",
    "                  ]\n",
    "df[numeric_columns] = scaler.fit_transform(df[numeric_columns])\n",
    "df.head(5)\n",
    "\n"
   ]
  },
  {
   "cell_type": "code",
   "execution_count": 13,
   "id": "7a152608-c000-47ce-bd9d-431e63ac082a",
   "metadata": {},
   "outputs": [
    {
     "data": {
      "text/plain": [
       "Index(['adult_passangers', 'fuel_consumption', 'length', 'width', 'height',\n",
       "       'dist_axis', 'car_tow', 'segment_normalized', 'category', 'min_price',\n",
       "       'trunk_size_number', 'weight_number', 'ground_clearance'],\n",
       "      dtype='object')"
      ]
     },
     "execution_count": 13,
     "metadata": {},
     "output_type": "execute_result"
    }
   ],
   "source": [
    "df.columns"
   ]
  },
  {
   "cell_type": "markdown",
   "id": "95d73f2d-7a6a-42ac-a660-942afdfd2596",
   "metadata": {},
   "source": [
    "## SGD Classifier"
   ]
  },
  {
   "cell_type": "code",
   "execution_count": 14,
   "id": "c82a9767-8ebc-4113-8330-2065c5217b67",
   "metadata": {},
   "outputs": [
    {
     "name": "stdout",
     "output_type": "stream",
     "text": [
      "<class 'pandas.core.frame.DataFrame'>\n",
      "Index: 90 entries, 0 to 106\n",
      "Data columns (total 13 columns):\n",
      " #   Column              Non-Null Count  Dtype  \n",
      "---  ------              --------------  -----  \n",
      " 0   adult_passangers    90 non-null     float64\n",
      " 1   fuel_consumption    89 non-null     float64\n",
      " 2   length              90 non-null     float64\n",
      " 3   width               90 non-null     float64\n",
      " 4   height              90 non-null     float64\n",
      " 5   dist_axis           90 non-null     float64\n",
      " 6   car_tow             90 non-null     int64  \n",
      " 7   segment_normalized  90 non-null     object \n",
      " 8   category            90 non-null     object \n",
      " 9   min_price           90 non-null     float64\n",
      " 10  trunk_size_number   90 non-null     float64\n",
      " 11  weight_number       90 non-null     float64\n",
      " 12  ground_clearance    90 non-null     float64\n",
      "dtypes: float64(10), int64(1), object(2)\n",
      "memory usage: 9.8+ KB\n",
      "None\n"
     ]
    }
   ],
   "source": [
    "df_suv_sedan = df[df['segment_normalized'].isin(['sed_s', 'sed_m', 'sed_f', 'suv_s', 'suv_m', 'suv_f', 'suv_xl', 'city'])]\n",
    "print(df_suv_sedan.info())\n",
    "X = df_suv_sedan.drop(columns=[\n",
    "    'segment_normalized',\n",
    "    'category'\n",
    "    ])\n",
    "\n",
    "\n",
    "\n",
    "X.fillna(0, inplace=True)\n"
   ]
  },
  {
   "cell_type": "code",
   "execution_count": 16,
   "id": "78390d3d-4481-4901-9b23-f06008006230",
   "metadata": {},
   "outputs": [],
   "source": [
    "y = df_suv_sedan['segment_normalized']"
   ]
  },
  {
   "cell_type": "code",
   "execution_count": 18,
   "id": "40c62f95-3547-4fdb-8ace-296670cb2db0",
   "metadata": {},
   "outputs": [],
   "source": [
    "# Split the data into training and testing sets\n",
    "X_train, X_test, y_train, y_test = train_test_split(\n",
    "\tX, y, test_size=0.3, random_state=42)\n"
   ]
  },
  {
   "cell_type": "code",
   "execution_count": 19,
   "id": "380bf4c0-47de-4d2b-ba4c-94f3c1c7f76c",
   "metadata": {},
   "outputs": [],
   "source": [
    "# Create classifier\n",
    "clf = SGDClassifier(loss='log_loss', alpha=0.01,\n",
    "                    max_iter=1000)"
   ]
  },
  {
   "cell_type": "code",
   "execution_count": 20,
   "id": "f3c9d49e-6d91-4055-9ae8-717c4e6ff403",
   "metadata": {},
   "outputs": [
    {
     "data": {
      "text/html": [
       "<style>#sk-container-id-1 {color: black;}#sk-container-id-1 pre{padding: 0;}#sk-container-id-1 div.sk-toggleable {background-color: white;}#sk-container-id-1 label.sk-toggleable__label {cursor: pointer;display: block;width: 100%;margin-bottom: 0;padding: 0.3em;box-sizing: border-box;text-align: center;}#sk-container-id-1 label.sk-toggleable__label-arrow:before {content: \"▸\";float: left;margin-right: 0.25em;color: #696969;}#sk-container-id-1 label.sk-toggleable__label-arrow:hover:before {color: black;}#sk-container-id-1 div.sk-estimator:hover label.sk-toggleable__label-arrow:before {color: black;}#sk-container-id-1 div.sk-toggleable__content {max-height: 0;max-width: 0;overflow: hidden;text-align: left;background-color: #f0f8ff;}#sk-container-id-1 div.sk-toggleable__content pre {margin: 0.2em;color: black;border-radius: 0.25em;background-color: #f0f8ff;}#sk-container-id-1 input.sk-toggleable__control:checked~div.sk-toggleable__content {max-height: 200px;max-width: 100%;overflow: auto;}#sk-container-id-1 input.sk-toggleable__control:checked~label.sk-toggleable__label-arrow:before {content: \"▾\";}#sk-container-id-1 div.sk-estimator input.sk-toggleable__control:checked~label.sk-toggleable__label {background-color: #d4ebff;}#sk-container-id-1 div.sk-label input.sk-toggleable__control:checked~label.sk-toggleable__label {background-color: #d4ebff;}#sk-container-id-1 input.sk-hidden--visually {border: 0;clip: rect(1px 1px 1px 1px);clip: rect(1px, 1px, 1px, 1px);height: 1px;margin: -1px;overflow: hidden;padding: 0;position: absolute;width: 1px;}#sk-container-id-1 div.sk-estimator {font-family: monospace;background-color: #f0f8ff;border: 1px dotted black;border-radius: 0.25em;box-sizing: border-box;margin-bottom: 0.5em;}#sk-container-id-1 div.sk-estimator:hover {background-color: #d4ebff;}#sk-container-id-1 div.sk-parallel-item::after {content: \"\";width: 100%;border-bottom: 1px solid gray;flex-grow: 1;}#sk-container-id-1 div.sk-label:hover label.sk-toggleable__label {background-color: #d4ebff;}#sk-container-id-1 div.sk-serial::before {content: \"\";position: absolute;border-left: 1px solid gray;box-sizing: border-box;top: 0;bottom: 0;left: 50%;z-index: 0;}#sk-container-id-1 div.sk-serial {display: flex;flex-direction: column;align-items: center;background-color: white;padding-right: 0.2em;padding-left: 0.2em;position: relative;}#sk-container-id-1 div.sk-item {position: relative;z-index: 1;}#sk-container-id-1 div.sk-parallel {display: flex;align-items: stretch;justify-content: center;background-color: white;position: relative;}#sk-container-id-1 div.sk-item::before, #sk-container-id-1 div.sk-parallel-item::before {content: \"\";position: absolute;border-left: 1px solid gray;box-sizing: border-box;top: 0;bottom: 0;left: 50%;z-index: -1;}#sk-container-id-1 div.sk-parallel-item {display: flex;flex-direction: column;z-index: 1;position: relative;background-color: white;}#sk-container-id-1 div.sk-parallel-item:first-child::after {align-self: flex-end;width: 50%;}#sk-container-id-1 div.sk-parallel-item:last-child::after {align-self: flex-start;width: 50%;}#sk-container-id-1 div.sk-parallel-item:only-child::after {width: 0;}#sk-container-id-1 div.sk-dashed-wrapped {border: 1px dashed gray;margin: 0 0.4em 0.5em 0.4em;box-sizing: border-box;padding-bottom: 0.4em;background-color: white;}#sk-container-id-1 div.sk-label label {font-family: monospace;font-weight: bold;display: inline-block;line-height: 1.2em;}#sk-container-id-1 div.sk-label-container {text-align: center;}#sk-container-id-1 div.sk-container {/* jupyter's `normalize.less` sets `[hidden] { display: none; }` but bootstrap.min.css set `[hidden] { display: none !important; }` so we also need the `!important` here to be able to override the default hidden behavior on the sphinx rendered scikit-learn.org. See: https://github.com/scikit-learn/scikit-learn/issues/21755 */display: inline-block !important;position: relative;}#sk-container-id-1 div.sk-text-repr-fallback {display: none;}</style><div id=\"sk-container-id-1\" class=\"sk-top-container\"><div class=\"sk-text-repr-fallback\"><pre>SGDClassifier(alpha=0.01, loss=&#x27;log_loss&#x27;)</pre><b>In a Jupyter environment, please rerun this cell to show the HTML representation or trust the notebook. <br />On GitHub, the HTML representation is unable to render, please try loading this page with nbviewer.org.</b></div><div class=\"sk-container\" hidden><div class=\"sk-item\"><div class=\"sk-estimator sk-toggleable\"><input class=\"sk-toggleable__control sk-hidden--visually\" id=\"sk-estimator-id-1\" type=\"checkbox\" checked><label for=\"sk-estimator-id-1\" class=\"sk-toggleable__label sk-toggleable__label-arrow\">SGDClassifier</label><div class=\"sk-toggleable__content\"><pre>SGDClassifier(alpha=0.01, loss=&#x27;log_loss&#x27;)</pre></div></div></div></div></div>"
      ],
      "text/plain": [
       "SGDClassifier(alpha=0.01, loss='log_loss')"
      ]
     },
     "execution_count": 20,
     "metadata": {},
     "output_type": "execute_result"
    }
   ],
   "source": [
    "# Train the classifier\n",
    "clf.fit(X_train, y_train)"
   ]
  },
  {
   "cell_type": "code",
   "execution_count": 21,
   "id": "844a690d-0015-46a4-bf00-2845828bf237",
   "metadata": {},
   "outputs": [
    {
     "data": {
      "text/plain": [
       "array(['suv_xl', 'sed_m', 'sed_m', 'sed_m', 'sed_m', 'suv_m', 'suv_xl',\n",
       "       'suv_m', 'sed_m', 'city', 'sed_m', 'suv_m', 'sed_m', 'suv_m',\n",
       "       'suv_m', 'sed_m', 'sed_m', 'suv_xl', 'sed_m', 'city', 'suv_xl',\n",
       "       'sed_m', 'sed_m', 'sed_m', 'suv_m', 'suv_m', 'suv_f'], dtype='<U6')"
      ]
     },
     "execution_count": 21,
     "metadata": {},
     "output_type": "execute_result"
    }
   ],
   "source": [
    "# Make predictions\n",
    "y_pred = clf.predict(X_test)\n",
    "y_pred"
   ]
  },
  {
   "cell_type": "code",
   "execution_count": 22,
   "id": "91d3bd2a-31d0-4cf2-bdd9-2317e67e6f4e",
   "metadata": {},
   "outputs": [
    {
     "name": "stdout",
     "output_type": "stream",
     "text": [
      "Accuracy: 0.2962962962962963\n"
     ]
    }
   ],
   "source": [
    "# Evaluate the model\n",
    "accuracy = accuracy_score(y_test, y_pred)\n",
    "print(f'Accuracy: {accuracy}')\n"
   ]
  },
  {
   "cell_type": "code",
   "execution_count": 23,
   "id": "c570f460-5d8a-4a93-838d-4f09b38db574",
   "metadata": {},
   "outputs": [
    {
     "name": "stdout",
     "output_type": "stream",
     "text": [
      "              precision    recall  f1-score   support\n",
      "\n",
      "        city       1.00      0.67      0.80         3\n",
      "       sed_f       0.00      0.00      0.00         3\n",
      "       sed_m       0.23      1.00      0.38         3\n",
      "       sed_s       0.00      0.00      0.00         4\n",
      "       suv_f       0.00      0.00      0.00         5\n",
      "       suv_m       0.00      0.00      0.00         2\n",
      "       suv_s       0.00      0.00      0.00         4\n",
      "      suv_xl       0.75      1.00      0.86         3\n",
      "\n",
      "    accuracy                           0.30        27\n",
      "   macro avg       0.25      0.33      0.25        27\n",
      "weighted avg       0.22      0.30      0.23        27\n",
      "\n"
     ]
    },
    {
     "name": "stderr",
     "output_type": "stream",
     "text": [
      "/Users/luisbarreras/anaconda3/lib/python3.11/site-packages/sklearn/metrics/_classification.py:1469: UndefinedMetricWarning: Precision and F-score are ill-defined and being set to 0.0 in labels with no predicted samples. Use `zero_division` parameter to control this behavior.\n",
      "  _warn_prf(average, modifier, msg_start, len(result))\n",
      "/Users/luisbarreras/anaconda3/lib/python3.11/site-packages/sklearn/metrics/_classification.py:1469: UndefinedMetricWarning: Precision and F-score are ill-defined and being set to 0.0 in labels with no predicted samples. Use `zero_division` parameter to control this behavior.\n",
      "  _warn_prf(average, modifier, msg_start, len(result))\n",
      "/Users/luisbarreras/anaconda3/lib/python3.11/site-packages/sklearn/metrics/_classification.py:1469: UndefinedMetricWarning: Precision and F-score are ill-defined and being set to 0.0 in labels with no predicted samples. Use `zero_division` parameter to control this behavior.\n",
      "  _warn_prf(average, modifier, msg_start, len(result))\n"
     ]
    }
   ],
   "source": [
    "conf_matrix = confusion_matrix(y_test, y_pred)\n",
    "print(classification_report(y_test, y_pred))"
   ]
  },
  {
   "cell_type": "markdown",
   "id": "587bdd97-912d-4a8d-aae6-dbe5f69ccee8",
   "metadata": {},
   "source": [
    "\n",
    "## SGD for Categories City, Sedan & SUV\n"
   ]
  },
  {
   "cell_type": "code",
   "execution_count": 24,
   "id": "b3b45ea9-df4f-4560-9d12-8d5101d1a664",
   "metadata": {},
   "outputs": [
    {
     "name": "stdout",
     "output_type": "stream",
     "text": [
      "<class 'pandas.core.frame.DataFrame'>\n",
      "Index: 90 entries, 0 to 106\n",
      "Data columns (total 13 columns):\n",
      " #   Column              Non-Null Count  Dtype  \n",
      "---  ------              --------------  -----  \n",
      " 0   adult_passangers    90 non-null     float64\n",
      " 1   fuel_consumption    89 non-null     float64\n",
      " 2   length              90 non-null     float64\n",
      " 3   width               90 non-null     float64\n",
      " 4   height              90 non-null     float64\n",
      " 5   dist_axis           90 non-null     float64\n",
      " 6   car_tow             90 non-null     int64  \n",
      " 7   segment_normalized  90 non-null     object \n",
      " 8   category            90 non-null     object \n",
      " 9   min_price           90 non-null     float64\n",
      " 10  trunk_size_number   90 non-null     float64\n",
      " 11  weight_number       90 non-null     float64\n",
      " 12  ground_clearance    90 non-null     float64\n",
      "dtypes: float64(10), int64(1), object(2)\n",
      "memory usage: 9.8+ KB\n",
      "None\n",
      "Accuracy: 0.7777777777777778\n",
      "              precision    recall  f1-score   support\n",
      "\n",
      "        city       0.00      0.00      0.00         4\n",
      "       sedan       0.67      0.86      0.75        14\n",
      "         suv       0.89      0.89      0.89        18\n",
      "\n",
      "    accuracy                           0.78        36\n",
      "   macro avg       0.52      0.58      0.55        36\n",
      "weighted avg       0.70      0.78      0.74        36\n",
      "\n"
     ]
    },
    {
     "name": "stderr",
     "output_type": "stream",
     "text": [
      "/Users/luisbarreras/anaconda3/lib/python3.11/site-packages/sklearn/metrics/_classification.py:1469: UndefinedMetricWarning: Precision and F-score are ill-defined and being set to 0.0 in labels with no predicted samples. Use `zero_division` parameter to control this behavior.\n",
      "  _warn_prf(average, modifier, msg_start, len(result))\n",
      "/Users/luisbarreras/anaconda3/lib/python3.11/site-packages/sklearn/metrics/_classification.py:1469: UndefinedMetricWarning: Precision and F-score are ill-defined and being set to 0.0 in labels with no predicted samples. Use `zero_division` parameter to control this behavior.\n",
      "  _warn_prf(average, modifier, msg_start, len(result))\n",
      "/Users/luisbarreras/anaconda3/lib/python3.11/site-packages/sklearn/metrics/_classification.py:1469: UndefinedMetricWarning: Precision and F-score are ill-defined and being set to 0.0 in labels with no predicted samples. Use `zero_division` parameter to control this behavior.\n",
      "  _warn_prf(average, modifier, msg_start, len(result))\n"
     ]
    }
   ],
   "source": [
    "df_suv_sedan = df[df['category'].isin(['sedan', 'city', 'suv'])]\n",
    "\n",
    "print(df_suv_sedan.info())\n",
    "X = df_suv_sedan.drop(columns=[\n",
    "    'segment_normalized', 'category'\n",
    "    ])\n",
    "\n",
    "X.fillna(0, inplace=True)\n",
    "\n",
    "\n",
    "y = df_suv_sedan['category']\n",
    "\n",
    "\n",
    "\n",
    "# Split the data into training and testing sets\n",
    "X_train, X_test, y_train, y_test = train_test_split(\n",
    "\tX, y, test_size=0.4, random_state=42)\n",
    "\n",
    "\n",
    "# Create classifier\n",
    "clf = SGDClassifier(loss='log_loss', alpha=0.01,\n",
    "                    max_iter=10000)\n",
    "\n",
    "\n",
    "# Train the classifier\n",
    "clf.fit(X_train, y_train)\n",
    "\n",
    "y_pred = clf.predict(X_test)\n",
    "\n",
    "# Evaluate the model\n",
    "accuracy = accuracy_score(y_test, y_pred)\n",
    "print(f'Accuracy: {accuracy}')\n",
    "\n",
    "\n",
    "conf_matrix = confusion_matrix(y_test, y_pred)\n",
    "print(classification_report(y_test, y_pred))"
   ]
  },
  {
   "cell_type": "code",
   "execution_count": null,
   "id": "739581b6-c878-4ddf-9fc1-09a135f69b42",
   "metadata": {},
   "outputs": [],
   "source": []
  },
  {
   "cell_type": "code",
   "execution_count": null,
   "id": "c0b93cff-f8b6-4cc2-abee-b081290016c7",
   "metadata": {},
   "outputs": [],
   "source": []
  },
  {
   "cell_type": "code",
   "execution_count": null,
   "id": "84ae6464-8c9f-4fc1-aa2c-08595db7c7b6",
   "metadata": {},
   "outputs": [],
   "source": []
  },
  {
   "cell_type": "code",
   "execution_count": null,
   "id": "586b6d87-1ebe-4741-9cb0-582185c72588",
   "metadata": {},
   "outputs": [],
   "source": []
  },
  {
   "cell_type": "code",
   "execution_count": null,
   "id": "8f594b57-4189-4624-978c-93e502fbbd7f",
   "metadata": {},
   "outputs": [],
   "source": []
  },
  {
   "cell_type": "code",
   "execution_count": null,
   "id": "36e712c0-c770-4ee8-9415-eb58f4a0acf7",
   "metadata": {},
   "outputs": [],
   "source": []
  },
  {
   "cell_type": "code",
   "execution_count": null,
   "id": "fa0c6ba6-e7e5-433e-b3df-8e90c77c7573",
   "metadata": {},
   "outputs": [],
   "source": []
  },
  {
   "cell_type": "code",
   "execution_count": null,
   "id": "000602a0-35f7-4b0f-8d09-e87fda598269",
   "metadata": {},
   "outputs": [],
   "source": []
  },
  {
   "cell_type": "code",
   "execution_count": null,
   "id": "c83a4164-9bb1-4e76-b38a-ebbe0b5d5506",
   "metadata": {},
   "outputs": [],
   "source": []
  },
  {
   "cell_type": "code",
   "execution_count": null,
   "id": "a3882906-547f-4228-a714-7613d776087d",
   "metadata": {},
   "outputs": [],
   "source": []
  },
  {
   "cell_type": "code",
   "execution_count": null,
   "id": "d584f6d1-89e9-484d-a718-ea7febcd89d9",
   "metadata": {},
   "outputs": [],
   "source": []
  },
  {
   "cell_type": "code",
   "execution_count": null,
   "id": "b95eae96-831b-48a2-9054-fbcc4f68c98e",
   "metadata": {},
   "outputs": [],
   "source": []
  },
  {
   "cell_type": "code",
   "execution_count": null,
   "id": "e212198b-2183-42d5-b891-ca0ea1cef389",
   "metadata": {},
   "outputs": [],
   "source": []
  },
  {
   "cell_type": "code",
   "execution_count": null,
   "id": "3597d332-90d0-4d2c-b31a-9b26caf0a905",
   "metadata": {},
   "outputs": [],
   "source": []
  },
  {
   "cell_type": "code",
   "execution_count": null,
   "id": "f1a7eafc-fcbf-4447-b5f6-888c1e643c97",
   "metadata": {},
   "outputs": [],
   "source": []
  },
  {
   "cell_type": "code",
   "execution_count": null,
   "id": "92794929-42c4-47cb-98ff-e4a394938285",
   "metadata": {},
   "outputs": [],
   "source": []
  }
 ],
 "metadata": {
  "kernelspec": {
   "display_name": "Python 3 (ipykernel)",
   "language": "python",
   "name": "python3"
  },
  "language_info": {
   "codemirror_mode": {
    "name": "ipython",
    "version": 3
   },
   "file_extension": ".py",
   "mimetype": "text/x-python",
   "name": "python",
   "nbconvert_exporter": "python",
   "pygments_lexer": "ipython3",
   "version": "3.11.5"
  }
 },
 "nbformat": 4,
 "nbformat_minor": 5
}
